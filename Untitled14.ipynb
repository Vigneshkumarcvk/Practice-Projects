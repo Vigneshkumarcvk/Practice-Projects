{
  "nbformat": 4,
  "nbformat_minor": 0,
  "metadata": {
    "colab": {
      "provenance": []
    },
    "kernelspec": {
      "name": "python3",
      "display_name": "Python 3"
    },
    "language_info": {
      "name": "python"
    }
  },
  "cells": [
    {
      "cell_type": "code",
      "execution_count": null,
      "metadata": {
        "colab": {
          "base_uri": "https://localhost:8080/"
        },
        "id": "GQjtdPF_WQYj",
        "outputId": "f4626c93-4266-495a-8a6d-543b7a04ddd6"
      },
      "outputs": [
        {
          "output_type": "execute_result",
          "data": {
            "text/plain": [
              "True"
            ]
          },
          "metadata": {},
          "execution_count": 1
        }
      ],
      "source": [
        "import numpy as np\n",
        "import imageio\n",
        "import cv2\n",
        "import scipy.ndimage\n",
        "img = \"Sudhan.jpg\"\n",
        "def draw(rgb):\n",
        "    return np.dot(rgb[...,:3], [0.2989, 0.5870, .1140])\n",
        "def dodge(front,back):\n",
        "    res = front*255/(255-back)\n",
        "    res[res>255]=255\n",
        "    res[back == 255]=255\n",
        "    return res.astype('uint8')\n",
        "\n",
        "S = imageio.imread(img)\n",
        "d = draw(S)\n",
        "i = 255-d\n",
        "b = scipy.ndimage.filters.gaussian_filter(i, sigma=13)\n",
        "r = dodge(b,d)\n",
        "cv2.imwrite('Sudhan12.png', r)"
      ]
    }
  ]
}